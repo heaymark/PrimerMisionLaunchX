{
 "cells": [
  {
   "cell_type": "markdown",
   "metadata": {},
   "source": [
    "### Ejercicio1 - Utilizar operadores aritméticos\n",
    "\n",
    "Crear un programa que pueda calcular la distancia entre dos planetas. Comenzaremos usando dos distancias de planetas: Tierra (149.597.870 km) y Júpiter (778.547.200 km)."
   ]
  },
  {
   "cell_type": "code",
   "execution_count": 9,
   "metadata": {},
   "outputs": [],
   "source": [
    "# Crear variables para almacenar las dos distancias\n",
    "# ¡Asegúrate de quitar las comas!\n",
    "distanciaTierra = float(149597.870)\n",
    "distanciaJupider = float(778547.200)\n"
   ]
  },
  {
   "cell_type": "markdown",
   "metadata": {},
   "source": [
    "Restarás el primer planeta del segundo para determinar la distancia en kilómetros. A continuación, puedes convertir la distancia del kilómetro en millas multiplicándola por 0.621."
   ]
  },
  {
   "cell_type": "code",
   "execution_count": 17,
   "metadata": {},
   "outputs": [
    {
     "name": "stdout",
     "output_type": "stream",
     "text": [
      "628950\n",
      "628949\n",
      "628949.33\n",
      "628949\n",
      "390578\n",
      "390577\n",
      "390577.53393\n",
      "390578\n"
     ]
    }
   ],
   "source": [
    "from math import ceil, floor\n",
    "# Calcular la distancia entre planetas\n",
    "distanciaPlanetasKm = distanciaJupider - distanciaTierra\n",
    "print(ceil(distanciaPlanetasKm)) #redondeo arriba\n",
    "print(floor(distanciaPlanetasKm)) #redondeo abajo\n",
    "print(round(distanciaPlanetasKm)) #redondeo sin decimal\n",
    "print(distanciaPlanetasKm) #resultado\n",
    "distanciaPlanetasMillas =  distanciaPlanetasKm * 0.621\n",
    "print(ceil(distanciaPlanetasMillas))\n",
    "print(floor(distanciaPlanetasMillas))\n",
    "print(round(distanciaPlanetasMillas))\n",
    "print(distanciaPlanetasMillas)"
   ]
  },
  {
   "cell_type": "markdown",
   "metadata": {},
   "source": [
    "### Ejercicio 2: convierte cadenas en números y usa valores absolutos\n",
    "Crear una aplicación para trabajar con números y entrada de usuario, leer la distancia del sol para dos planetas, y luego mostrar la distancia entre los planetas\n",
    "\n",
    "Lee los valores usando input, agrega el código para leer la distancia del sol para cada planeta, considerando 2 planetas."
   ]
  },
  {
   "cell_type": "code",
   "execution_count": 18,
   "metadata": {},
   "outputs": [
    {
     "name": "stdout",
     "output_type": "stream",
     "text": [
      "Aplicación para leer la distancia del sol para dos planetas y la distancia entre ellos\n"
     ]
    }
   ],
   "source": [
    "# Almacenar las entradas del usuario\n",
    "#Pista: variable = input(\"¿Cuál es tu nombre?\")\n",
    "print(\"Aplicación para leer la distancia del sol para dos planetas y la distancia entre ellos\")\n",
    "primerValorUsr = input(\"Ingresa la distancia del sol primer planeta:\")\n",
    "segundoValorUsr = input(\"Ingresa la distancia del sol segundo planeta:\")"
   ]
  },
  {
   "cell_type": "markdown",
   "metadata": {},
   "source": [
    "### Convertir a número\n",
    "Debido a que input devuelve valores de cadena, necesitamos convertirlos en números."
   ]
  },
  {
   "cell_type": "code",
   "execution_count": 19,
   "metadata": {},
   "outputs": [],
   "source": [
    "# Convierte las cadenas de ambos planetas a números enteros\n",
    "primerValorUsr = int(primerValorUsr)\n",
    "segundoValorUsr = int(segundoValorUsr)\n"
   ]
  },
  {
   "cell_type": "markdown",
   "metadata": {},
   "source": [
    "### Realizar el cálculo y convertir a valor absoluto\n",
    "Con los valores almacenados como números, ahora puedes agregar el código para realizar el cálculo, restando el primer planeta del segundo. Debido a que el segundo planeta podría ser un número mayor, usarás abs para convertirlo a un valor absoluto. "
   ]
  },
  {
   "cell_type": "code",
   "execution_count": 20,
   "metadata": {},
   "outputs": [
    {
     "name": "stdout",
     "output_type": "stream",
     "text": [
      "1000\n",
      "621.0\n"
     ]
    }
   ],
   "source": [
    "# Realizar el cálculo y determinar el valor absoluto\n",
    "distanciaEntrePlanetasKm = abs(primerValorUsr - segundoValorUsr)\n",
    "print(distanciaEntrePlanetasKm)\n",
    "# Convertir de KM a Millas\n",
    "distanciaEntrePlanetasMillas = distanciaEntrePlanetasKm *  0.621\n",
    "print(distanciaEntrePlanetasMillas)\n"
   ]
  }
 ],
 "metadata": {
  "interpreter": {
   "hash": "916dbcbb3f70747c44a77c7bcd40155683ae19c65e1c03b4aa3499c5328201f1"
  },
  "kernelspec": {
   "display_name": "Python 3.9.10 64-bit",
   "language": "python",
   "name": "python3"
  },
  "language_info": {
   "codemirror_mode": {
    "name": "ipython",
    "version": 3
   },
   "file_extension": ".py",
   "mimetype": "text/x-python",
   "name": "python",
   "nbconvert_exporter": "python",
   "pygments_lexer": "ipython3",
   "version": "3.9.10"
  },
  "orig_nbformat": 4
 },
 "nbformat": 4,
 "nbformat_minor": 2
}
